{
 "cells": [
  {
   "cell_type": "code",
   "execution_count": 1,
   "id": "bb486807",
   "metadata": {},
   "outputs": [
    {
     "name": "stdout",
     "output_type": "stream",
     "text": [
      "Intel MKL WARNING: Support of Intel(R) Streaming SIMD Extensions 4.2 (Intel(R) SSE4.2) enabled only processors has been deprecated. Intel oneAPI Math Kernel Library 2025.0 will require Intel(R) Advanced Vector Extensions (Intel(R) AVX) instructions.\n",
      "Intel MKL WARNING: Support of Intel(R) Streaming SIMD Extensions 4.2 (Intel(R) SSE4.2) enabled only processors has been deprecated. Intel oneAPI Math Kernel Library 2025.0 will require Intel(R) Advanced Vector Extensions (Intel(R) AVX) instructions.\n"
     ]
    }
   ],
   "source": [
    "#Import Pacakages\n",
    "import pandas as pd"
   ]
  },
  {
   "cell_type": "code",
   "execution_count": 2,
   "id": "f53dc2cc",
   "metadata": {},
   "outputs": [
    {
     "data": {
      "text/html": [
       "<div>\n",
       "<style scoped>\n",
       "    .dataframe tbody tr th:only-of-type {\n",
       "        vertical-align: middle;\n",
       "    }\n",
       "\n",
       "    .dataframe tbody tr th {\n",
       "        vertical-align: top;\n",
       "    }\n",
       "\n",
       "    .dataframe thead th {\n",
       "        text-align: right;\n",
       "    }\n",
       "</style>\n",
       "<table border=\"1\" class=\"dataframe\">\n",
       "  <thead>\n",
       "    <tr style=\"text-align: right;\">\n",
       "      <th></th>\n",
       "      <th>emp_no</th>\n",
       "      <th>emp_title_id</th>\n",
       "      <th>birth_date</th>\n",
       "      <th>first_name</th>\n",
       "      <th>last_name</th>\n",
       "      <th>sex</th>\n",
       "      <th>hire_date</th>\n",
       "    </tr>\n",
       "  </thead>\n",
       "  <tbody>\n",
       "    <tr>\n",
       "      <th>0</th>\n",
       "      <td>473302</td>\n",
       "      <td>s0001</td>\n",
       "      <td>7/25/1953</td>\n",
       "      <td>Hideyuki</td>\n",
       "      <td>Zallocco</td>\n",
       "      <td>M</td>\n",
       "      <td>4/28/1990</td>\n",
       "    </tr>\n",
       "    <tr>\n",
       "      <th>1</th>\n",
       "      <td>475053</td>\n",
       "      <td>e0002</td>\n",
       "      <td>11/18/1954</td>\n",
       "      <td>Byong</td>\n",
       "      <td>Delgrande</td>\n",
       "      <td>F</td>\n",
       "      <td>9/7/1991</td>\n",
       "    </tr>\n",
       "    <tr>\n",
       "      <th>2</th>\n",
       "      <td>57444</td>\n",
       "      <td>e0002</td>\n",
       "      <td>1/30/1958</td>\n",
       "      <td>Berry</td>\n",
       "      <td>Babb</td>\n",
       "      <td>F</td>\n",
       "      <td>3/21/1992</td>\n",
       "    </tr>\n",
       "    <tr>\n",
       "      <th>3</th>\n",
       "      <td>421786</td>\n",
       "      <td>s0001</td>\n",
       "      <td>9/28/1957</td>\n",
       "      <td>Xiong</td>\n",
       "      <td>Verhoeff</td>\n",
       "      <td>M</td>\n",
       "      <td>11/26/1987</td>\n",
       "    </tr>\n",
       "    <tr>\n",
       "      <th>4</th>\n",
       "      <td>282238</td>\n",
       "      <td>e0003</td>\n",
       "      <td>10/28/1952</td>\n",
       "      <td>Abdelkader</td>\n",
       "      <td>Baumann</td>\n",
       "      <td>F</td>\n",
       "      <td>1/18/1991</td>\n",
       "    </tr>\n",
       "    <tr>\n",
       "      <th>...</th>\n",
       "      <td>...</td>\n",
       "      <td>...</td>\n",
       "      <td>...</td>\n",
       "      <td>...</td>\n",
       "      <td>...</td>\n",
       "      <td>...</td>\n",
       "      <td>...</td>\n",
       "    </tr>\n",
       "    <tr>\n",
       "      <th>300019</th>\n",
       "      <td>464231</td>\n",
       "      <td>s0001</td>\n",
       "      <td>8/14/1958</td>\n",
       "      <td>Constantino</td>\n",
       "      <td>Eastman</td>\n",
       "      <td>M</td>\n",
       "      <td>10/28/1988</td>\n",
       "    </tr>\n",
       "    <tr>\n",
       "      <th>300020</th>\n",
       "      <td>255832</td>\n",
       "      <td>e0002</td>\n",
       "      <td>5/8/1955</td>\n",
       "      <td>Yuping</td>\n",
       "      <td>Dayang</td>\n",
       "      <td>F</td>\n",
       "      <td>2/26/1995</td>\n",
       "    </tr>\n",
       "    <tr>\n",
       "      <th>300021</th>\n",
       "      <td>76671</td>\n",
       "      <td>s0001</td>\n",
       "      <td>6/9/1959</td>\n",
       "      <td>Ortrud</td>\n",
       "      <td>Plessier</td>\n",
       "      <td>M</td>\n",
       "      <td>2/24/1988</td>\n",
       "    </tr>\n",
       "    <tr>\n",
       "      <th>300022</th>\n",
       "      <td>264920</td>\n",
       "      <td>s0001</td>\n",
       "      <td>9/22/1959</td>\n",
       "      <td>Percy</td>\n",
       "      <td>Samarati</td>\n",
       "      <td>F</td>\n",
       "      <td>9/8/1994</td>\n",
       "    </tr>\n",
       "    <tr>\n",
       "      <th>300023</th>\n",
       "      <td>464503</td>\n",
       "      <td>s0002</td>\n",
       "      <td>5/31/1964</td>\n",
       "      <td>Arvind</td>\n",
       "      <td>Slobodova</td>\n",
       "      <td>M</td>\n",
       "      <td>11/23/1987</td>\n",
       "    </tr>\n",
       "  </tbody>\n",
       "</table>\n",
       "<p>300024 rows × 7 columns</p>\n",
       "</div>"
      ],
      "text/plain": [
       "        emp_no emp_title_id  birth_date   first_name  last_name sex  \\\n",
       "0       473302        s0001   7/25/1953     Hideyuki   Zallocco   M   \n",
       "1       475053        e0002  11/18/1954        Byong  Delgrande   F   \n",
       "2        57444        e0002   1/30/1958        Berry       Babb   F   \n",
       "3       421786        s0001   9/28/1957        Xiong   Verhoeff   M   \n",
       "4       282238        e0003  10/28/1952   Abdelkader    Baumann   F   \n",
       "...        ...          ...         ...          ...        ...  ..   \n",
       "300019  464231        s0001   8/14/1958  Constantino    Eastman   M   \n",
       "300020  255832        e0002    5/8/1955       Yuping     Dayang   F   \n",
       "300021   76671        s0001    6/9/1959       Ortrud   Plessier   M   \n",
       "300022  264920        s0001   9/22/1959        Percy   Samarati   F   \n",
       "300023  464503        s0002   5/31/1964       Arvind  Slobodova   M   \n",
       "\n",
       "         hire_date  \n",
       "0        4/28/1990  \n",
       "1         9/7/1991  \n",
       "2        3/21/1992  \n",
       "3       11/26/1987  \n",
       "4        1/18/1991  \n",
       "...            ...  \n",
       "300019  10/28/1988  \n",
       "300020   2/26/1995  \n",
       "300021   2/24/1988  \n",
       "300022    9/8/1994  \n",
       "300023  11/23/1987  \n",
       "\n",
       "[300024 rows x 7 columns]"
      ]
     },
     "execution_count": 2,
     "metadata": {},
     "output_type": "execute_result"
    }
   ],
   "source": [
    "# Specify the path to your CSV file\n",
    "csv_file = \"employees.csv\"\n",
    "\n",
    "# Read the CSV file into a DataFrame\n",
    "df_employees = pd.read_csv(csv_file)\n",
    "\n",
    "# Now you can work with the data using pandas methods\n",
    "df_employees"
   ]
  },
  {
   "cell_type": "code",
   "execution_count": 44,
   "id": "27695d5f",
   "metadata": {},
   "outputs": [
    {
     "data": {
      "text/plain": [
       "(300024, 7)"
      ]
     },
     "execution_count": 44,
     "metadata": {},
     "output_type": "execute_result"
    }
   ],
   "source": [
    "# num_rows will contain the number of rows in the DataFrame.\n",
    "num_rows = df_employees.shape\n",
    "num_rows"
   ]
  },
  {
   "cell_type": "code",
   "execution_count": 45,
   "id": "bd8a73df",
   "metadata": {},
   "outputs": [
    {
     "data": {
      "text/plain": [
       "emp_no          False\n",
       "emp_title_id    False\n",
       "birth_date      False\n",
       "first_name      False\n",
       "last_name       False\n",
       "sex             False\n",
       "hire_date       False\n",
       "dtype: bool"
      ]
     },
     "execution_count": 45,
     "metadata": {},
     "output_type": "execute_result"
    }
   ],
   "source": [
    "# Check for null values in the specified column\n",
    "has_null_values = df_employees.isna().any()\n",
    "has_null_values"
   ]
  },
  {
   "cell_type": "code",
   "execution_count": 3,
   "id": "4f5dae38",
   "metadata": {
    "scrolled": true
   },
   "outputs": [
    {
     "data": {
      "text/plain": [
       "emp_no           int64\n",
       "emp_title_id    object\n",
       "birth_date      object\n",
       "first_name      object\n",
       "last_name       object\n",
       "sex             object\n",
       "hire_date       object\n",
       "dtype: object"
      ]
     },
     "execution_count": 3,
     "metadata": {},
     "output_type": "execute_result"
    }
   ],
   "source": [
    "df_employees.dtypes"
   ]
  },
  {
   "cell_type": "code",
   "execution_count": 26,
   "id": "0148c4f4",
   "metadata": {},
   "outputs": [
    {
     "name": "stdout",
     "output_type": "stream",
     "text": [
      "Duplicates in 'Employee ID' column:\n",
      "        emp_no emp_title_id  birth_date   first_name  last_name sex  \\\n",
      "0       473302        s0001   7/25/1953     Hideyuki   Zallocco   M   \n",
      "1       475053        e0002  11/18/1954        Byong  Delgrande   F   \n",
      "2        57444        e0002   1/30/1958        Berry       Babb   F   \n",
      "3       421786        s0001   9/28/1957        Xiong   Verhoeff   M   \n",
      "4       282238        e0003  10/28/1952   Abdelkader    Baumann   F   \n",
      "...        ...          ...         ...          ...        ...  ..   \n",
      "300019  464231        s0001   8/14/1958  Constantino    Eastman   M   \n",
      "300020  255832        e0002    5/8/1955       Yuping     Dayang   F   \n",
      "300021   76671        s0001    6/9/1959       Ortrud   Plessier   M   \n",
      "300022  264920        s0001   9/22/1959        Percy   Samarati   F   \n",
      "300023  464503        s0002   5/31/1964       Arvind  Slobodova   M   \n",
      "\n",
      "         hire_date  \n",
      "0        4/28/1990  \n",
      "1         9/7/1991  \n",
      "2        3/21/1992  \n",
      "3       11/26/1987  \n",
      "4        1/18/1991  \n",
      "...            ...  \n",
      "300019  10/28/1988  \n",
      "300020   2/26/1995  \n",
      "300021   2/24/1988  \n",
      "300022    9/8/1994  \n",
      "300023  11/23/1987  \n",
      "\n",
      "[300024 rows x 7 columns]\n"
     ]
    }
   ],
   "source": [
    "# Find duplicates in the \"Employee ID\" column\n",
    "duplicates = df_employees[df_employees.duplicated(subset=['emp_title_id'], keep=False)]\n",
    "\n",
    "# Print the rows with duplicates in the \"Employee ID\" column\n",
    "print(\"Duplicates in 'Employee ID' column:\")\n",
    "print(duplicates)"
   ]
  },
  {
   "cell_type": "code",
   "execution_count": null,
   "id": "193d989a",
   "metadata": {},
   "outputs": [],
   "source": [
    "# Convert the \"emp_no\" column to strings and calculate the maximum length\n",
    "max_emp_no_length = df_employees['emp_no'].astype(str).str.len().max()\n",
    "max_emp_no_length "
   ]
  },
  {
   "cell_type": "code",
   "execution_count": null,
   "id": "19fdabb7",
   "metadata": {},
   "outputs": [],
   "source": [
    "# Convert the \"emp_title_id\" column to strings and calculate the maximum length\n",
    "max_emp_no_length = df_employees['emp_title_id'].astype(str).str.len().max()\n",
    "max_emp_no_length "
   ]
  },
  {
   "cell_type": "code",
   "execution_count": null,
   "id": "64c093fc",
   "metadata": {},
   "outputs": [],
   "source": [
    "# Convert the \"birth_date\" column to strings and calculate the maximum length\n",
    "max_emp_no_length = df_employees['birth_date'].astype(str).str.len().max()\n",
    "max_emp_no_length"
   ]
  },
  {
   "cell_type": "code",
   "execution_count": null,
   "id": "183d5fcc",
   "metadata": {},
   "outputs": [],
   "source": [
    "# Convert the \"first_name\" column to strings and calculate the maximum length\n",
    "max_emp_no_length = df_employees['first_name'].astype(str).str.len().max()\n",
    "max_emp_no_length"
   ]
  },
  {
   "cell_type": "code",
   "execution_count": null,
   "id": "ec22fcb7",
   "metadata": {},
   "outputs": [],
   "source": [
    "# Convert the \"last_name\" column to strings and calculate the maximum length\n",
    "max_emp_no_length = df_employees['last_name'].astype(str).str.len().max()\n",
    "max_emp_no_length"
   ]
  },
  {
   "cell_type": "code",
   "execution_count": null,
   "id": "3c8899d2",
   "metadata": {},
   "outputs": [],
   "source": [
    "# Convert the \"sex\" column to strings and calculate the maximum length\n",
    "max_emp_no_length = df_employees['sex'].astype(str).str.len().max()\n",
    "max_emp_no_length"
   ]
  },
  {
   "cell_type": "code",
   "execution_count": null,
   "id": "921fa02b",
   "metadata": {},
   "outputs": [],
   "source": [
    "# Convert the \"hire_date\" column to strings and calculate the maximum length\n",
    "max_emp_no_length = df_employees['hire_date'].astype(str).str.len().max()\n",
    "max_emp_no_length"
   ]
  },
  {
   "cell_type": "code",
   "execution_count": null,
   "id": "3c29823a",
   "metadata": {},
   "outputs": [],
   "source": [
    "# Find duplicates in the \"Employee ID\" column\n",
    "duplicates = df_employees[df_employees.duplicated(subset=['emp_no'], keep=False)]\n",
    "\n",
    "# Print the rows with duplicates in the \"Employee ID\" column\n",
    "print(\"Duplicates in 'Employee ID' column:\")\n",
    "print(duplicates)"
   ]
  },
  {
   "cell_type": "code",
   "execution_count": 27,
   "id": "66757abe",
   "metadata": {},
   "outputs": [
    {
     "data": {
      "text/html": [
       "<div>\n",
       "<style scoped>\n",
       "    .dataframe tbody tr th:only-of-type {\n",
       "        vertical-align: middle;\n",
       "    }\n",
       "\n",
       "    .dataframe tbody tr th {\n",
       "        vertical-align: top;\n",
       "    }\n",
       "\n",
       "    .dataframe thead th {\n",
       "        text-align: right;\n",
       "    }\n",
       "</style>\n",
       "<table border=\"1\" class=\"dataframe\">\n",
       "  <thead>\n",
       "    <tr style=\"text-align: right;\">\n",
       "      <th></th>\n",
       "      <th>title_id</th>\n",
       "      <th>title</th>\n",
       "    </tr>\n",
       "  </thead>\n",
       "  <tbody>\n",
       "    <tr>\n",
       "      <th>0</th>\n",
       "      <td>s0001</td>\n",
       "      <td>Staff</td>\n",
       "    </tr>\n",
       "    <tr>\n",
       "      <th>1</th>\n",
       "      <td>s0002</td>\n",
       "      <td>Senior Staff</td>\n",
       "    </tr>\n",
       "    <tr>\n",
       "      <th>2</th>\n",
       "      <td>e0001</td>\n",
       "      <td>Assistant Engineer</td>\n",
       "    </tr>\n",
       "    <tr>\n",
       "      <th>3</th>\n",
       "      <td>e0002</td>\n",
       "      <td>Engineer</td>\n",
       "    </tr>\n",
       "    <tr>\n",
       "      <th>4</th>\n",
       "      <td>e0003</td>\n",
       "      <td>Senior Engineer</td>\n",
       "    </tr>\n",
       "    <tr>\n",
       "      <th>5</th>\n",
       "      <td>e0004</td>\n",
       "      <td>Technique Leader</td>\n",
       "    </tr>\n",
       "    <tr>\n",
       "      <th>6</th>\n",
       "      <td>m0001</td>\n",
       "      <td>Manager</td>\n",
       "    </tr>\n",
       "  </tbody>\n",
       "</table>\n",
       "</div>"
      ],
      "text/plain": [
       "  title_id               title\n",
       "0    s0001               Staff\n",
       "1    s0002        Senior Staff\n",
       "2    e0001  Assistant Engineer\n",
       "3    e0002            Engineer\n",
       "4    e0003     Senior Engineer\n",
       "5    e0004    Technique Leader\n",
       "6    m0001             Manager"
      ]
     },
     "execution_count": 27,
     "metadata": {},
     "output_type": "execute_result"
    }
   ],
   "source": [
    "# Specify the path to your CSV file\n",
    "csv_file = \"titles.csv\"\n",
    "\n",
    "# Read the CSV file into a DataFrame\n",
    "df_titles = pd.read_csv(csv_file)\n",
    "\n",
    "# Now you can work with the data using pandas methods\n",
    "df_titles"
   ]
  },
  {
   "cell_type": "code",
   "execution_count": 43,
   "id": "591e6ef6",
   "metadata": {},
   "outputs": [
    {
     "data": {
      "text/plain": [
       "(7, 2)"
      ]
     },
     "execution_count": 43,
     "metadata": {},
     "output_type": "execute_result"
    }
   ],
   "source": [
    "# num_rows will contain the number of rows in the DataFrame.\n",
    "num_rows = df_titles.shape\n",
    "num_rows"
   ]
  },
  {
   "cell_type": "code",
   "execution_count": 42,
   "id": "25d381aa",
   "metadata": {},
   "outputs": [
    {
     "data": {
      "text/plain": [
       "title_id    False\n",
       "title       False\n",
       "dtype: bool"
      ]
     },
     "execution_count": 42,
     "metadata": {},
     "output_type": "execute_result"
    }
   ],
   "source": [
    "# Check for null values in the specified column\n",
    "has_null_values = df_titles.isna().any()\n",
    "has_null_values"
   ]
  },
  {
   "cell_type": "code",
   "execution_count": 8,
   "id": "e7e33303",
   "metadata": {},
   "outputs": [
    {
     "data": {
      "text/plain": [
       "title_id    object\n",
       "title       object\n",
       "dtype: object"
      ]
     },
     "execution_count": 8,
     "metadata": {},
     "output_type": "execute_result"
    }
   ],
   "source": [
    "df_titles.dtypes"
   ]
  },
  {
   "cell_type": "code",
   "execution_count": 10,
   "id": "e71445cb",
   "metadata": {},
   "outputs": [
    {
     "name": "stdout",
     "output_type": "stream",
     "text": [
      "Duplicates in 'Employee ID' column:\n",
      "Empty DataFrame\n",
      "Columns: [title_id, title]\n",
      "Index: []\n"
     ]
    }
   ],
   "source": [
    "# Find duplicates in the \"Employee ID\" column\n",
    "duplicates = df_titles[df_titles.duplicated(subset=['title'], keep=False)]\n",
    "\n",
    "# Print the rows with duplicates in the \"Employee ID\" column\n",
    "print(\"Duplicates in 'Employee ID' column:\")\n",
    "print(duplicates)"
   ]
  },
  {
   "cell_type": "code",
   "execution_count": null,
   "id": "199764fc",
   "metadata": {},
   "outputs": [],
   "source": [
    "# Convert the \"emp_no\" column to strings and calculate the maximum length\n",
    "max_emp_no_length = df_titles['title_id'].astype(str).str.len().max()\n",
    "max_emp_no_length "
   ]
  },
  {
   "cell_type": "code",
   "execution_count": null,
   "id": "209a536d",
   "metadata": {},
   "outputs": [],
   "source": [
    "# Convert the \"emp_no\" column to strings and calculate the maximum length\n",
    "max_emp_no_length = df_titles['title'].astype(str).str.len().max()\n",
    "max_emp_no_length "
   ]
  },
  {
   "cell_type": "code",
   "execution_count": 46,
   "id": "eefff07f",
   "metadata": {},
   "outputs": [
    {
     "data": {
      "text/html": [
       "<div>\n",
       "<style scoped>\n",
       "    .dataframe tbody tr th:only-of-type {\n",
       "        vertical-align: middle;\n",
       "    }\n",
       "\n",
       "    .dataframe tbody tr th {\n",
       "        vertical-align: top;\n",
       "    }\n",
       "\n",
       "    .dataframe thead th {\n",
       "        text-align: right;\n",
       "    }\n",
       "</style>\n",
       "<table border=\"1\" class=\"dataframe\">\n",
       "  <thead>\n",
       "    <tr style=\"text-align: right;\">\n",
       "      <th></th>\n",
       "      <th>dept_no</th>\n",
       "      <th>dept_name</th>\n",
       "    </tr>\n",
       "  </thead>\n",
       "  <tbody>\n",
       "    <tr>\n",
       "      <th>0</th>\n",
       "      <td>d001</td>\n",
       "      <td>Marketing</td>\n",
       "    </tr>\n",
       "    <tr>\n",
       "      <th>1</th>\n",
       "      <td>d002</td>\n",
       "      <td>Finance</td>\n",
       "    </tr>\n",
       "    <tr>\n",
       "      <th>2</th>\n",
       "      <td>d003</td>\n",
       "      <td>Human Resources</td>\n",
       "    </tr>\n",
       "    <tr>\n",
       "      <th>3</th>\n",
       "      <td>d004</td>\n",
       "      <td>Production</td>\n",
       "    </tr>\n",
       "    <tr>\n",
       "      <th>4</th>\n",
       "      <td>d005</td>\n",
       "      <td>Development</td>\n",
       "    </tr>\n",
       "    <tr>\n",
       "      <th>5</th>\n",
       "      <td>d006</td>\n",
       "      <td>Quality Management</td>\n",
       "    </tr>\n",
       "    <tr>\n",
       "      <th>6</th>\n",
       "      <td>d007</td>\n",
       "      <td>Sales</td>\n",
       "    </tr>\n",
       "    <tr>\n",
       "      <th>7</th>\n",
       "      <td>d008</td>\n",
       "      <td>Research</td>\n",
       "    </tr>\n",
       "    <tr>\n",
       "      <th>8</th>\n",
       "      <td>d009</td>\n",
       "      <td>Customer Service</td>\n",
       "    </tr>\n",
       "  </tbody>\n",
       "</table>\n",
       "</div>"
      ],
      "text/plain": [
       "  dept_no           dept_name\n",
       "0    d001           Marketing\n",
       "1    d002             Finance\n",
       "2    d003     Human Resources\n",
       "3    d004          Production\n",
       "4    d005         Development\n",
       "5    d006  Quality Management\n",
       "6    d007               Sales\n",
       "7    d008            Research\n",
       "8    d009    Customer Service"
      ]
     },
     "execution_count": 46,
     "metadata": {},
     "output_type": "execute_result"
    }
   ],
   "source": [
    "# Specify the path to your CSV file\n",
    "csv_file = \"departments.csv\"\n",
    "\n",
    "# Read the CSV file into a DataFrame\n",
    "df_departments = pd.read_csv(csv_file)\n",
    "\n",
    "# Now you can work with the data using pandas methods\n",
    "df_departments"
   ]
  },
  {
   "cell_type": "code",
   "execution_count": 47,
   "id": "43a20ca1",
   "metadata": {},
   "outputs": [
    {
     "data": {
      "text/plain": [
       "(9, 2)"
      ]
     },
     "execution_count": 47,
     "metadata": {},
     "output_type": "execute_result"
    }
   ],
   "source": [
    "# num_rows will contain the number of rows in the DataFrame.\n",
    "num_rows = df_departments.shape\n",
    "num_rows"
   ]
  },
  {
   "cell_type": "code",
   "execution_count": 48,
   "id": "e5086fca",
   "metadata": {},
   "outputs": [
    {
     "data": {
      "text/plain": [
       "dept_no      False\n",
       "dept_name    False\n",
       "dtype: bool"
      ]
     },
     "execution_count": 48,
     "metadata": {},
     "output_type": "execute_result"
    }
   ],
   "source": [
    "# Check for null values in the specified column\n",
    "has_null_values =df_departments.isna().any()\n",
    "has_null_values"
   ]
  },
  {
   "cell_type": "code",
   "execution_count": 12,
   "id": "d82861eb",
   "metadata": {},
   "outputs": [
    {
     "data": {
      "text/plain": [
       "dept_no      object\n",
       "dept_name    object\n",
       "dtype: object"
      ]
     },
     "execution_count": 12,
     "metadata": {},
     "output_type": "execute_result"
    }
   ],
   "source": [
    "df_departments.dtypes"
   ]
  },
  {
   "cell_type": "code",
   "execution_count": 13,
   "id": "361c2bde",
   "metadata": {},
   "outputs": [
    {
     "name": "stdout",
     "output_type": "stream",
     "text": [
      "Duplicates in 'Employee ID' column:\n",
      "Empty DataFrame\n",
      "Columns: [dept_no, dept_name]\n",
      "Index: []\n"
     ]
    }
   ],
   "source": [
    "# Find duplicates in the \"Employee ID\" column\n",
    "duplicates = df_departments[df_departments.duplicated(subset=['dept_no'], keep=False)]\n",
    "\n",
    "# Print the rows with duplicates in the \"Employee ID\" column\n",
    "print(\"Duplicates in 'Employee ID' column:\")\n",
    "print(duplicates)"
   ]
  },
  {
   "cell_type": "code",
   "execution_count": null,
   "id": "75751db6",
   "metadata": {},
   "outputs": [],
   "source": [
    "# Convert the \"emp_no\" column to strings and calculate the maximum length\n",
    "max_emp_no_length = df_departments['dept_no'].astype(str).str.len().max()\n",
    "max_emp_no_length "
   ]
  },
  {
   "cell_type": "code",
   "execution_count": null,
   "id": "5ced1277",
   "metadata": {},
   "outputs": [],
   "source": [
    "# Convert the \"emp_no\" column to strings and calculate the maximum length\n",
    "max_emp_no_length = df_departments['dept_name'].astype(str).str.len().max()\n",
    "max_emp_no_length "
   ]
  },
  {
   "cell_type": "code",
   "execution_count": 14,
   "id": "6e9f85bf",
   "metadata": {},
   "outputs": [
    {
     "data": {
      "text/html": [
       "<div>\n",
       "<style scoped>\n",
       "    .dataframe tbody tr th:only-of-type {\n",
       "        vertical-align: middle;\n",
       "    }\n",
       "\n",
       "    .dataframe tbody tr th {\n",
       "        vertical-align: top;\n",
       "    }\n",
       "\n",
       "    .dataframe thead th {\n",
       "        text-align: right;\n",
       "    }\n",
       "</style>\n",
       "<table border=\"1\" class=\"dataframe\">\n",
       "  <thead>\n",
       "    <tr style=\"text-align: right;\">\n",
       "      <th></th>\n",
       "      <th>emp_no</th>\n",
       "      <th>salary</th>\n",
       "    </tr>\n",
       "  </thead>\n",
       "  <tbody>\n",
       "    <tr>\n",
       "      <th>0</th>\n",
       "      <td>10001</td>\n",
       "      <td>60117</td>\n",
       "    </tr>\n",
       "    <tr>\n",
       "      <th>1</th>\n",
       "      <td>10002</td>\n",
       "      <td>65828</td>\n",
       "    </tr>\n",
       "    <tr>\n",
       "      <th>2</th>\n",
       "      <td>10003</td>\n",
       "      <td>40006</td>\n",
       "    </tr>\n",
       "    <tr>\n",
       "      <th>3</th>\n",
       "      <td>10004</td>\n",
       "      <td>40054</td>\n",
       "    </tr>\n",
       "    <tr>\n",
       "      <th>4</th>\n",
       "      <td>10005</td>\n",
       "      <td>78228</td>\n",
       "    </tr>\n",
       "    <tr>\n",
       "      <th>...</th>\n",
       "      <td>...</td>\n",
       "      <td>...</td>\n",
       "    </tr>\n",
       "    <tr>\n",
       "      <th>300019</th>\n",
       "      <td>499995</td>\n",
       "      <td>40000</td>\n",
       "    </tr>\n",
       "    <tr>\n",
       "      <th>300020</th>\n",
       "      <td>499996</td>\n",
       "      <td>58058</td>\n",
       "    </tr>\n",
       "    <tr>\n",
       "      <th>300021</th>\n",
       "      <td>499997</td>\n",
       "      <td>49597</td>\n",
       "    </tr>\n",
       "    <tr>\n",
       "      <th>300022</th>\n",
       "      <td>499998</td>\n",
       "      <td>40000</td>\n",
       "    </tr>\n",
       "    <tr>\n",
       "      <th>300023</th>\n",
       "      <td>499999</td>\n",
       "      <td>63707</td>\n",
       "    </tr>\n",
       "  </tbody>\n",
       "</table>\n",
       "<p>300024 rows × 2 columns</p>\n",
       "</div>"
      ],
      "text/plain": [
       "        emp_no  salary\n",
       "0        10001   60117\n",
       "1        10002   65828\n",
       "2        10003   40006\n",
       "3        10004   40054\n",
       "4        10005   78228\n",
       "...        ...     ...\n",
       "300019  499995   40000\n",
       "300020  499996   58058\n",
       "300021  499997   49597\n",
       "300022  499998   40000\n",
       "300023  499999   63707\n",
       "\n",
       "[300024 rows x 2 columns]"
      ]
     },
     "execution_count": 14,
     "metadata": {},
     "output_type": "execute_result"
    }
   ],
   "source": [
    "# Specify the path to your CSV file\n",
    "csv_file = \"salaries.csv\"\n",
    "\n",
    "# Read the CSV file into a DataFrame\n",
    "df_salaries = pd.read_csv(csv_file)\n",
    "\n",
    "# Now you can work with the data using pandas methods\n",
    "df_salaries"
   ]
  },
  {
   "cell_type": "code",
   "execution_count": 49,
   "id": "78d6cdf0",
   "metadata": {},
   "outputs": [
    {
     "data": {
      "text/plain": [
       "(300024, 2)"
      ]
     },
     "execution_count": 49,
     "metadata": {},
     "output_type": "execute_result"
    }
   ],
   "source": [
    "# num_rows will contain the number of rows in the DataFrame.\n",
    "num_rows = df_salaries.shape\n",
    "num_rows"
   ]
  },
  {
   "cell_type": "code",
   "execution_count": 51,
   "id": "dfbe3c18",
   "metadata": {},
   "outputs": [
    {
     "data": {
      "text/plain": [
       "emp_no    False\n",
       "salary    False\n",
       "dtype: bool"
      ]
     },
     "execution_count": 51,
     "metadata": {},
     "output_type": "execute_result"
    }
   ],
   "source": [
    "# Check for null values in the specified column\n",
    "has_null_values =df_salaries.isna().any()\n",
    "has_null_values"
   ]
  },
  {
   "cell_type": "code",
   "execution_count": null,
   "id": "b75b4024",
   "metadata": {
    "scrolled": false
   },
   "outputs": [],
   "source": [
    "df_salaries.dtypes"
   ]
  },
  {
   "cell_type": "code",
   "execution_count": 56,
   "id": "6a006989",
   "metadata": {},
   "outputs": [
    {
     "name": "stdout",
     "output_type": "stream",
     "text": [
      "Duplicates in 'Employee ID' column:\n",
      "Empty DataFrame\n",
      "Columns: [emp_no, salary]\n",
      "Index: []\n"
     ]
    }
   ],
   "source": [
    "# Find duplicates in the \"Employee ID\" column\n",
    "duplicates = df_salaries[df_salaries.duplicated(subset=['emp_no'], keep=False)]\n",
    "\n",
    "# Print the rows with duplicates in the \"Employee ID\" column\n",
    "print(\"Duplicates in 'Employee ID' column:\")\n",
    "print(duplicates)"
   ]
  },
  {
   "cell_type": "code",
   "execution_count": null,
   "id": "7f9a90bb",
   "metadata": {},
   "outputs": [],
   "source": [
    "# Convert the \"emp_no\" column to strings and calculate the maximum length\n",
    "max_emp_no_length = df_salaries['emp_no'].astype(str).str.len().max()\n",
    "max_emp_no_length"
   ]
  },
  {
   "cell_type": "code",
   "execution_count": null,
   "id": "415ab35a",
   "metadata": {},
   "outputs": [],
   "source": [
    "# Convert the \"emp_no\" column to strings and calculate the maximum length\n",
    "max_emp_no_length = df_salaries['salary'].astype(str).str.len().max()\n",
    "max_emp_no_length"
   ]
  },
  {
   "cell_type": "code",
   "execution_count": 17,
   "id": "4fe3ca84",
   "metadata": {},
   "outputs": [
    {
     "data": {
      "text/html": [
       "<div>\n",
       "<style scoped>\n",
       "    .dataframe tbody tr th:only-of-type {\n",
       "        vertical-align: middle;\n",
       "    }\n",
       "\n",
       "    .dataframe tbody tr th {\n",
       "        vertical-align: top;\n",
       "    }\n",
       "\n",
       "    .dataframe thead th {\n",
       "        text-align: right;\n",
       "    }\n",
       "</style>\n",
       "<table border=\"1\" class=\"dataframe\">\n",
       "  <thead>\n",
       "    <tr style=\"text-align: right;\">\n",
       "      <th></th>\n",
       "      <th>emp_no</th>\n",
       "      <th>dept_no</th>\n",
       "    </tr>\n",
       "  </thead>\n",
       "  <tbody>\n",
       "    <tr>\n",
       "      <th>0</th>\n",
       "      <td>10001</td>\n",
       "      <td>d005</td>\n",
       "    </tr>\n",
       "    <tr>\n",
       "      <th>1</th>\n",
       "      <td>10002</td>\n",
       "      <td>d007</td>\n",
       "    </tr>\n",
       "    <tr>\n",
       "      <th>2</th>\n",
       "      <td>10003</td>\n",
       "      <td>d004</td>\n",
       "    </tr>\n",
       "    <tr>\n",
       "      <th>3</th>\n",
       "      <td>10004</td>\n",
       "      <td>d004</td>\n",
       "    </tr>\n",
       "    <tr>\n",
       "      <th>4</th>\n",
       "      <td>10005</td>\n",
       "      <td>d003</td>\n",
       "    </tr>\n",
       "    <tr>\n",
       "      <th>...</th>\n",
       "      <td>...</td>\n",
       "      <td>...</td>\n",
       "    </tr>\n",
       "    <tr>\n",
       "      <th>331598</th>\n",
       "      <td>499995</td>\n",
       "      <td>d004</td>\n",
       "    </tr>\n",
       "    <tr>\n",
       "      <th>331599</th>\n",
       "      <td>499996</td>\n",
       "      <td>d004</td>\n",
       "    </tr>\n",
       "    <tr>\n",
       "      <th>331600</th>\n",
       "      <td>499997</td>\n",
       "      <td>d005</td>\n",
       "    </tr>\n",
       "    <tr>\n",
       "      <th>331601</th>\n",
       "      <td>499998</td>\n",
       "      <td>d002</td>\n",
       "    </tr>\n",
       "    <tr>\n",
       "      <th>331602</th>\n",
       "      <td>499999</td>\n",
       "      <td>d004</td>\n",
       "    </tr>\n",
       "  </tbody>\n",
       "</table>\n",
       "<p>331603 rows × 2 columns</p>\n",
       "</div>"
      ],
      "text/plain": [
       "        emp_no dept_no\n",
       "0        10001    d005\n",
       "1        10002    d007\n",
       "2        10003    d004\n",
       "3        10004    d004\n",
       "4        10005    d003\n",
       "...        ...     ...\n",
       "331598  499995    d004\n",
       "331599  499996    d004\n",
       "331600  499997    d005\n",
       "331601  499998    d002\n",
       "331602  499999    d004\n",
       "\n",
       "[331603 rows x 2 columns]"
      ]
     },
     "execution_count": 17,
     "metadata": {},
     "output_type": "execute_result"
    }
   ],
   "source": [
    "# Specify the path to your CSV file\n",
    "csv_file = \"dept_emp.csv\"\n",
    "\n",
    "# Read the CSV file into a DataFrame\n",
    "df_dept_emp = pd.read_csv(csv_file)\n",
    "\n",
    "# Now you can work with the data using pandas methods\n",
    "df_dept_emp"
   ]
  },
  {
   "cell_type": "code",
   "execution_count": 54,
   "id": "33030ee5",
   "metadata": {},
   "outputs": [
    {
     "data": {
      "text/plain": [
       "(331603, 2)"
      ]
     },
     "execution_count": 54,
     "metadata": {},
     "output_type": "execute_result"
    }
   ],
   "source": [
    "# num_rows will contain the number of rows in the DataFrame.\n",
    "num_rows = df_dept_emp.shape\n",
    "num_rows"
   ]
  },
  {
   "cell_type": "code",
   "execution_count": 55,
   "id": "d30a2327",
   "metadata": {},
   "outputs": [
    {
     "data": {
      "text/plain": [
       "emp_no     False\n",
       "dept_no    False\n",
       "dtype: bool"
      ]
     },
     "execution_count": 55,
     "metadata": {},
     "output_type": "execute_result"
    }
   ],
   "source": [
    "# Check for null values in the specified column\n",
    "has_null_values =df_dept_emp.isna().any()\n",
    "has_null_values"
   ]
  },
  {
   "cell_type": "code",
   "execution_count": 18,
   "id": "73b1029d",
   "metadata": {},
   "outputs": [
    {
     "data": {
      "text/plain": [
       "emp_no      int64\n",
       "dept_no    object\n",
       "dtype: object"
      ]
     },
     "execution_count": 18,
     "metadata": {},
     "output_type": "execute_result"
    }
   ],
   "source": [
    "df_dept_emp.dtypes"
   ]
  },
  {
   "cell_type": "code",
   "execution_count": 34,
   "id": "c88235b1",
   "metadata": {},
   "outputs": [
    {
     "name": "stdout",
     "output_type": "stream",
     "text": [
      "Duplicates in 'Employee ID' column:\n",
      "        emp_no dept_no\n",
      "0        10001    d005\n",
      "1        10002    d007\n",
      "2        10003    d004\n",
      "3        10004    d004\n",
      "4        10005    d003\n",
      "...        ...     ...\n",
      "331598  499995    d004\n",
      "331599  499996    d004\n",
      "331600  499997    d005\n",
      "331601  499998    d002\n",
      "331602  499999    d004\n",
      "\n",
      "[331603 rows x 2 columns]\n"
     ]
    }
   ],
   "source": [
    "# Find duplicates in the \"Employee ID\" column\n",
    "duplicates = df_dept_emp[df_dept_emp.duplicated(subset=['dept_no'], keep=False)]\n",
    "\n",
    "# Print the rows with duplicates in the \"Employee ID\" column\n",
    "print(\"Duplicates in 'Employee ID' column:\")\n",
    "print(duplicates)"
   ]
  },
  {
   "cell_type": "code",
   "execution_count": 57,
   "id": "3a0c5792",
   "metadata": {},
   "outputs": [
    {
     "name": "stdout",
     "output_type": "stream",
     "text": [
      "Duplicates in 'Employee ID' column:\n",
      "        emp_no dept_no\n",
      "9        10010    d004\n",
      "10       10010    d006\n",
      "18       10018    d004\n",
      "19       10018    d005\n",
      "30       10029    d004\n",
      "...        ...     ...\n",
      "331576  499975    d003\n",
      "331584  499983    d004\n",
      "331585  499983    d009\n",
      "331594  499992    d001\n",
      "331595  499992    d003\n",
      "\n",
      "[63158 rows x 2 columns]\n"
     ]
    }
   ],
   "source": [
    "# Find duplicates in the \"Employee ID\" column\n",
    "duplicates = df_dept_emp[df_dept_emp.duplicated(subset=['emp_no'], keep=False)]\n",
    "\n",
    "# Print the rows with duplicates in the \"Employee ID\" column\n",
    "print(\"Duplicates in 'Employee ID' column:\")\n",
    "print(duplicates)"
   ]
  },
  {
   "cell_type": "code",
   "execution_count": null,
   "id": "2781b038",
   "metadata": {},
   "outputs": [],
   "source": [
    "# Convert the \"emp_no\" column to strings and calculate the maximum length\n",
    "max_emp_no_length = df_dept_emp['emp_no'].astype(str).str.len().max()\n",
    "max_emp_no_length"
   ]
  },
  {
   "cell_type": "code",
   "execution_count": null,
   "id": "b98a0fe2",
   "metadata": {},
   "outputs": [],
   "source": [
    "# Convert the \"emp_no\" column to strings and calculate the maximum length\n",
    "max_emp_no_length = df_dept_emp['dept_no'].astype(str).str.len().max()\n",
    "max_emp_no_length"
   ]
  },
  {
   "cell_type": "code",
   "execution_count": 28,
   "id": "bc6cf35f",
   "metadata": {},
   "outputs": [
    {
     "data": {
      "text/html": [
       "<div>\n",
       "<style scoped>\n",
       "    .dataframe tbody tr th:only-of-type {\n",
       "        vertical-align: middle;\n",
       "    }\n",
       "\n",
       "    .dataframe tbody tr th {\n",
       "        vertical-align: top;\n",
       "    }\n",
       "\n",
       "    .dataframe thead th {\n",
       "        text-align: right;\n",
       "    }\n",
       "</style>\n",
       "<table border=\"1\" class=\"dataframe\">\n",
       "  <thead>\n",
       "    <tr style=\"text-align: right;\">\n",
       "      <th></th>\n",
       "      <th>dept_no</th>\n",
       "      <th>emp_no</th>\n",
       "    </tr>\n",
       "  </thead>\n",
       "  <tbody>\n",
       "    <tr>\n",
       "      <th>0</th>\n",
       "      <td>d001</td>\n",
       "      <td>110022</td>\n",
       "    </tr>\n",
       "    <tr>\n",
       "      <th>1</th>\n",
       "      <td>d001</td>\n",
       "      <td>110039</td>\n",
       "    </tr>\n",
       "    <tr>\n",
       "      <th>2</th>\n",
       "      <td>d002</td>\n",
       "      <td>110085</td>\n",
       "    </tr>\n",
       "    <tr>\n",
       "      <th>3</th>\n",
       "      <td>d002</td>\n",
       "      <td>110114</td>\n",
       "    </tr>\n",
       "    <tr>\n",
       "      <th>4</th>\n",
       "      <td>d003</td>\n",
       "      <td>110183</td>\n",
       "    </tr>\n",
       "    <tr>\n",
       "      <th>5</th>\n",
       "      <td>d003</td>\n",
       "      <td>110228</td>\n",
       "    </tr>\n",
       "    <tr>\n",
       "      <th>6</th>\n",
       "      <td>d004</td>\n",
       "      <td>110303</td>\n",
       "    </tr>\n",
       "    <tr>\n",
       "      <th>7</th>\n",
       "      <td>d004</td>\n",
       "      <td>110344</td>\n",
       "    </tr>\n",
       "    <tr>\n",
       "      <th>8</th>\n",
       "      <td>d004</td>\n",
       "      <td>110386</td>\n",
       "    </tr>\n",
       "    <tr>\n",
       "      <th>9</th>\n",
       "      <td>d004</td>\n",
       "      <td>110420</td>\n",
       "    </tr>\n",
       "    <tr>\n",
       "      <th>10</th>\n",
       "      <td>d005</td>\n",
       "      <td>110511</td>\n",
       "    </tr>\n",
       "    <tr>\n",
       "      <th>11</th>\n",
       "      <td>d005</td>\n",
       "      <td>110567</td>\n",
       "    </tr>\n",
       "    <tr>\n",
       "      <th>12</th>\n",
       "      <td>d006</td>\n",
       "      <td>110725</td>\n",
       "    </tr>\n",
       "    <tr>\n",
       "      <th>13</th>\n",
       "      <td>d006</td>\n",
       "      <td>110765</td>\n",
       "    </tr>\n",
       "    <tr>\n",
       "      <th>14</th>\n",
       "      <td>d006</td>\n",
       "      <td>110800</td>\n",
       "    </tr>\n",
       "    <tr>\n",
       "      <th>15</th>\n",
       "      <td>d006</td>\n",
       "      <td>110854</td>\n",
       "    </tr>\n",
       "    <tr>\n",
       "      <th>16</th>\n",
       "      <td>d007</td>\n",
       "      <td>111035</td>\n",
       "    </tr>\n",
       "    <tr>\n",
       "      <th>17</th>\n",
       "      <td>d007</td>\n",
       "      <td>111133</td>\n",
       "    </tr>\n",
       "    <tr>\n",
       "      <th>18</th>\n",
       "      <td>d008</td>\n",
       "      <td>111400</td>\n",
       "    </tr>\n",
       "    <tr>\n",
       "      <th>19</th>\n",
       "      <td>d008</td>\n",
       "      <td>111534</td>\n",
       "    </tr>\n",
       "    <tr>\n",
       "      <th>20</th>\n",
       "      <td>d009</td>\n",
       "      <td>111692</td>\n",
       "    </tr>\n",
       "    <tr>\n",
       "      <th>21</th>\n",
       "      <td>d009</td>\n",
       "      <td>111784</td>\n",
       "    </tr>\n",
       "    <tr>\n",
       "      <th>22</th>\n",
       "      <td>d009</td>\n",
       "      <td>111877</td>\n",
       "    </tr>\n",
       "    <tr>\n",
       "      <th>23</th>\n",
       "      <td>d009</td>\n",
       "      <td>111939</td>\n",
       "    </tr>\n",
       "  </tbody>\n",
       "</table>\n",
       "</div>"
      ],
      "text/plain": [
       "   dept_no  emp_no\n",
       "0     d001  110022\n",
       "1     d001  110039\n",
       "2     d002  110085\n",
       "3     d002  110114\n",
       "4     d003  110183\n",
       "5     d003  110228\n",
       "6     d004  110303\n",
       "7     d004  110344\n",
       "8     d004  110386\n",
       "9     d004  110420\n",
       "10    d005  110511\n",
       "11    d005  110567\n",
       "12    d006  110725\n",
       "13    d006  110765\n",
       "14    d006  110800\n",
       "15    d006  110854\n",
       "16    d007  111035\n",
       "17    d007  111133\n",
       "18    d008  111400\n",
       "19    d008  111534\n",
       "20    d009  111692\n",
       "21    d009  111784\n",
       "22    d009  111877\n",
       "23    d009  111939"
      ]
     },
     "execution_count": 28,
     "metadata": {},
     "output_type": "execute_result"
    }
   ],
   "source": [
    "# Specify the path to your CSV file\n",
    "csv_file = \"dept_manager.csv\"\n",
    "\n",
    "# Read the CSV file into a DataFrame\n",
    "df_dept_manager= pd.read_csv(csv_file)\n",
    "\n",
    "# Now you can work with the data using pandas methods\n",
    "df_dept_manager"
   ]
  },
  {
   "cell_type": "code",
   "execution_count": 62,
   "id": "54bfa1eb",
   "metadata": {},
   "outputs": [
    {
     "data": {
      "text/plain": [
       "(24, 2)"
      ]
     },
     "execution_count": 62,
     "metadata": {},
     "output_type": "execute_result"
    }
   ],
   "source": [
    "# num_rows will contain the number of rows in the DataFrame.\n",
    "num_rows = df_dept_manager.shape\n",
    "num_rows"
   ]
  },
  {
   "cell_type": "code",
   "execution_count": 58,
   "id": "eb449416",
   "metadata": {},
   "outputs": [
    {
     "data": {
      "text/plain": [
       "dept_no    False\n",
       "emp_no     False\n",
       "dtype: bool"
      ]
     },
     "execution_count": 58,
     "metadata": {},
     "output_type": "execute_result"
    }
   ],
   "source": [
    "# Check for null values in the specified column\n",
    "has_null_values =df_dept_manager.isna().any()\n",
    "has_null_values"
   ]
  },
  {
   "cell_type": "code",
   "execution_count": 61,
   "id": "0284b0d9",
   "metadata": {},
   "outputs": [
    {
     "name": "stdout",
     "output_type": "stream",
     "text": [
      "Duplicates in 'Employee ID' column:\n",
      "Empty DataFrame\n",
      "Columns: [dept_no, emp_no]\n",
      "Index: []\n"
     ]
    }
   ],
   "source": [
    "# Find duplicates in the \"Employee ID\" column\n",
    "duplicates = df_dept_manager[df_dept_manager.duplicated(subset=['emp_no'], keep=False)]\n",
    "\n",
    "# Print the rows with duplicates in the \"Employee ID\" column\n",
    "print(\"Duplicates in 'Employee ID' column:\")\n",
    "print(duplicates)"
   ]
  },
  {
   "cell_type": "code",
   "execution_count": 22,
   "id": "9abe35d2",
   "metadata": {
    "scrolled": true
   },
   "outputs": [
    {
     "data": {
      "text/plain": [
       "dept_no    object\n",
       "emp_no      int64\n",
       "dtype: object"
      ]
     },
     "execution_count": 22,
     "metadata": {},
     "output_type": "execute_result"
    }
   ],
   "source": [
    "df_dept_manager.dtypes"
   ]
  },
  {
   "cell_type": "code",
   "execution_count": null,
   "id": "1311c2c1",
   "metadata": {},
   "outputs": [],
   "source": [
    "# Convert the \"emp_no\" column to strings and calculate the maximum length\n",
    "max_emp_no_length = df_dept_manager['dept_no'].astype(str).str.len().max()\n",
    "max_emp_no_length"
   ]
  },
  {
   "cell_type": "code",
   "execution_count": null,
   "id": "6402fd8b",
   "metadata": {},
   "outputs": [],
   "source": [
    "# Convert the \"emp_no\" column to strings and calculate the maximum length\n",
    "max_emp_no_length = df_dept_manager['emp_no'].astype(str).str.len().max()\n",
    "max_emp_no_length"
   ]
  },
  {
   "cell_type": "code",
   "execution_count": null,
   "id": "055991d7",
   "metadata": {},
   "outputs": [],
   "source": []
  }
 ],
 "metadata": {
  "kernelspec": {
   "display_name": "Python 3 (ipykernel)",
   "language": "python",
   "name": "python3"
  },
  "language_info": {
   "codemirror_mode": {
    "name": "ipython",
    "version": 3
   },
   "file_extension": ".py",
   "mimetype": "text/x-python",
   "name": "python",
   "nbconvert_exporter": "python",
   "pygments_lexer": "ipython3",
   "version": "3.11.5"
  },
  "varInspector": {
   "cols": {
    "lenName": 16,
    "lenType": 16,
    "lenVar": 40
   },
   "kernels_config": {
    "python": {
     "delete_cmd_postfix": "",
     "delete_cmd_prefix": "del ",
     "library": "var_list.py",
     "varRefreshCmd": "print(var_dic_list())"
    },
    "r": {
     "delete_cmd_postfix": ") ",
     "delete_cmd_prefix": "rm(",
     "library": "var_list.r",
     "varRefreshCmd": "cat(var_dic_list()) "
    }
   },
   "types_to_exclude": [
    "module",
    "function",
    "builtin_function_or_method",
    "instance",
    "_Feature"
   ],
   "window_display": false
  }
 },
 "nbformat": 4,
 "nbformat_minor": 5
}
